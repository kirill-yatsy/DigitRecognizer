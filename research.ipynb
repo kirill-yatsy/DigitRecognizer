{
 "cells": [
  {
   "cell_type": "code",
   "execution_count": 19,
   "metadata": {},
   "outputs": [],
   "source": [
    "import torch\n",
    "from torch import nn\n",
    "from torch.utils.data import DataLoader\n",
    "from torchvision import datasets, transforms\n",
    "import pandas as pd\n",
    "from torch import utils as t_utils\n",
    "from torch.utils.data.dataset import random_split\n",
    "from torch.utils.data import Dataset, TensorDataset, DataLoader\n",
    "import matplotlib.pyplot as plt\n",
    "import numpy as np\n",
    "# device = torch.device(\"cuda\" if torch.cuda.is_available() else \"mps\")\n",
    "device = torch.device(\"cpu\")\n"
   ]
  },
  {
   "cell_type": "code",
   "execution_count": 20,
   "metadata": {},
   "outputs": [],
   "source": [
    "\n",
    "train_data = pd.read_csv('./data/train.csv',dtype = np.float32)\n",
    "\n",
    "train_data['label'] = train_data['label'].astype(int)\n",
    "# test_data['label'] = test_data['label'].astype(int)\n",
    "\n",
    "# convert to numpy\n",
    "targets_numpy = train_data.label.values\n",
    "features_numpy = train_data.loc[:,train_data.columns != \"label\"].values\n",
    "\n",
    "# convert to tensor\n",
    "targets_tensor = torch.from_numpy(targets_numpy).long()\n",
    "features_tensor = torch.from_numpy(features_numpy).float()\n",
    "\n",
    "# create dataset\n",
    "dataset = TensorDataset(features_tensor, targets_tensor)\n",
    " \n",
    "# split dataset\n",
    "rows = train_data.shape[0]\n",
    "test_size = int(rows*0.2)\n",
    "train_size = rows - test_size\n",
    "trainDataset, testDataset = random_split(dataset, [train_size, test_size])\n",
    "\n",
    "# init loaders\n",
    "batch_size = 64\n",
    "trainLoader = DataLoader(trainDataset, batch_size=batch_size)\n",
    "testLoader = DataLoader(testDataset, batch_size=batch_size)"
   ]
  },
  {
   "cell_type": "code",
   "execution_count": 21,
   "metadata": {},
   "outputs": [
    {
     "data": {
      "image/png": "[encoded data removed]",
      "text/plain": [
       "<Figure size 640x480 with 1 Axes>"
      ]
     },
     "metadata": {},
     "output_type": "display_data"
    },
    {
     "name": "stdout",
     "output_type": "stream",
     "text": [
      "Label: 9\n"
     ]
    }
   ],
   "source": [
    "train_features, train_labels = next(iter(trainLoader))\n",
    "img = torch.reshape(train_features[0], (28, 28)) \n",
    "label = train_labels[0]\n",
    "plt.imshow(img)\n",
    "plt.title(str(label))\n",
    "plt.show()\n",
    "print(f\"Label: {label}\")"
   ]
  },
  {
   "cell_type": "code",
   "execution_count": 22,
   "metadata": {},
   "outputs": [
    {
     "name": "stdout",
     "output_type": "stream",
     "text": [
      "SimpleLinearNeuralNetwork(\n",
      "  (linear): Linear(in_features=784, out_features=10, bias=True)\n",
      ")\n"
     ]
    }
   ],
   "source": [
    "class SimpleLinearNeuralNetwork(nn.Module):\n",
    "    def __init__(self):\n",
    "        super().__init__()\n",
    "        self.linear = nn.Linear(28*28, 10)\n",
    "\n",
    "    def forward(self, x):\n",
    "        logits = self.linear(x)\n",
    "        return logits\n",
    "    \n",
    "simpleLinearNeuralNetworkModel = SimpleLinearNeuralNetwork().to(device)\n",
    "print(simpleLinearNeuralNetworkModel)"
   ]
  },
  {
   "cell_type": "code",
   "execution_count": 33,
   "metadata": {},
   "outputs": [],
   "source": [
    "def train_loop(dataloader, model, criteria, optimizer):\n",
    "    size = len(dataloader.dataset) \n",
    "    count = 0\n",
    "    for batch, (X, y) in enumerate(dataloader): \n",
    "        pred = model(X)\n",
    "        loss = criteria(pred, y)\n",
    "        count += 1\n",
    "        # Backpropagation\n",
    "        optimizer.zero_grad()\n",
    "        loss.backward()\n",
    "        optimizer.step() \n",
    "        \n",
    "        if batch % 200 == 0: \n",
    "            loss, current = loss.item(), (batch + 1) * len(X)\n",
    "            print(f\"loss: {loss:>7f}  [{current:>5d}/{size:>5d}]\")\n",
    "    \n",
    "    print(count)\n"
   ]
  },
  {
   "cell_type": "code",
   "execution_count": 45,
   "metadata": {},
   "outputs": [],
   "source": [
    "def test_loop(dataloader, model, loss_fn):\n",
    "    size = len(dataloader.dataset)\n",
    "    num_batches = len(dataloader)\n",
    "    correct = 0\n",
    "    test_loss = 0 \n",
    "    with torch.no_grad():\n",
    "        for (X, y) in dataloader: \n",
    "            pred = model(X) \n",
    "            test_loss += loss_fn(pred, y).item()\n",
    "            correct += (pred.argmax(1) == y).type(torch.float).sum().item() \n",
    " \n",
    "    test_loss /= num_batches\n",
    "    correct /= size\n",
    "    print(f\"Test Error: \\n Accuracy: {(100*correct):>0.1f}%, Avg loss: {test_loss:>8f} \\n\")"
   ]
  },
  {
   "cell_type": "code",
   "execution_count": 46,
   "metadata": {},
   "outputs": [
    {
     "name": "stdout",
     "output_type": "stream",
     "text": [
      "Epoch 1\n",
      "-------------------------------\n",
      "loss: 3.681502  [   64/33600]\n",
      "loss: 3.253436  [12864/33600]\n",
      "loss: 11.722382  [25664/33600]\n",
      "525\n",
      "Test Error: \n",
      " Accuracy: 83.1%, Avg loss: 22.496655 \n",
      "\n",
      "Epoch 2\n",
      "-------------------------------\n",
      "loss: 13.345912  [   64/33600]\n",
      "loss: 2.727440  [12864/33600]\n",
      "loss: 9.657930  [25664/33600]\n",
      "525\n",
      "Test Error: \n",
      " Accuracy: 88.0%, Avg loss: 16.118379 \n",
      "\n",
      "Epoch 3\n",
      "-------------------------------\n",
      "loss: 0.934724  [   64/33600]\n",
      "loss: 5.987674  [12864/33600]\n",
      "loss: 10.157700  [25664/33600]\n",
      "525\n",
      "Test Error: \n",
      " Accuracy: 88.3%, Avg loss: 16.806620 \n",
      "\n",
      "Epoch 4\n",
      "-------------------------------\n",
      "loss: 4.865849  [   64/33600]\n",
      "loss: 5.065780  [12864/33600]\n",
      "loss: 9.020833  [25664/33600]\n",
      "525\n",
      "Test Error: \n",
      " Accuracy: 86.2%, Avg loss: 18.759594 \n",
      "\n",
      "Epoch 5\n",
      "-------------------------------\n",
      "loss: 4.511963  [   64/33600]\n",
      "loss: 4.775049  [12864/33600]\n",
      "loss: 11.979399  [25664/33600]\n",
      "525\n",
      "Test Error: \n",
      " Accuracy: 88.2%, Avg loss: 15.522391 \n",
      "\n",
      "Done!\n"
     ]
    }
   ],
   "source": [
    "learning_rate = 1e-3\n",
    "batch_size = 64\n",
    "epochs = 5\n",
    "\n",
    "loss_fn = nn.CrossEntropyLoss()\n",
    "optimizer = torch.optim.SGD(simpleLinearNeuralNetworkModel.parameters(), lr=learning_rate)\n",
    "\n",
    "for t in range(epochs):\n",
    "    print(f\"Epoch {t+1}\\n-------------------------------\")\n",
    "    train_loop(trainLoader, simpleLinearNeuralNetworkModel, loss_fn, optimizer)\n",
    "    test_loop(testLoader, simpleLinearNeuralNetworkModel, loss_fn)\n",
    "\n",
    "print(\"Done!\")"
   ]
  },
  {
   "cell_type": "code",
   "execution_count": 47,
   "metadata": {},
   "outputs": [
    {
     "name": "stdout",
     "output_type": "stream",
     "text": [
      "Test Error: \n",
      " Accuracy: 88.2%, Avg loss: 15.522391 \n",
      "\n"
     ]
    }
   ],
   "source": [
    "test_loop(testLoader, simpleLinearNeuralNetworkModel, loss_fn)\n",
    "\n",
    "\n"
   ]
  },
  {
   "cell_type": "code",
   "execution_count": 27,
   "metadata": {},
   "outputs": [],
   "source": [
    "\n",
    "loaderIterator = iter(testLoader) "
   ]
  },
  {
   "cell_type": "code",
   "execution_count": 28,
   "metadata": {},
   "outputs": [],
   "source": [
    "\n",
    "def predict_and_show(model, loaderIterator):\n",
    "    train_features, train_labels = next(loaderIterator)\n",
    "    with torch.no_grad():\n",
    "        img = torch.reshape(train_features[0], (28, 28))  \n",
    "        pred = model(train_features)\n",
    "        label = torch.argmax(pred[0])  \n",
    "        plt.imshow(img)\n",
    "        plt.title(f\"predicted: {str(label)}, actual: {str(train_labels[0])}\")\n",
    "        plt.show() \n",
    "\n",
    "\n"
   ]
  },
  {
   "cell_type": "code",
   "execution_count": 29,
   "metadata": {},
   "outputs": [
    {
     "data": {
      "image/png": "[encoded data removed]",
      "text/plain": [
       "<Figure size 640x480 with 1 Axes>"
      ]
     },
     "metadata": {},
     "output_type": "display_data"
    }
   ],
   "source": [
    "predict_and_show(simpleLinearNeuralNetworkModel, loaderIterator) \n",
    " "
   ]
  },
  {
   "cell_type": "code",
   "execution_count": 30,
   "metadata": {},
   "outputs": [
    {
     "ename": "NameError",
     "evalue": "name 'NeuralNetwork' is not defined",
     "output_type": "error",
     "traceback": [
      "\u001b[0;31m---------------------------------------------------------------------------\u001b[0m",
      "\u001b[0;31mNameError\u001b[0m                                 Traceback (most recent call last)",
      "Cell \u001b[0;32mIn[30], line 34\u001b[0m\n\u001b[1;32m     30\u001b[0m         logits \u001b[39m=\u001b[39m \u001b[39mself\u001b[39m\u001b[39m.\u001b[39mlinear(x)\n\u001b[1;32m     32\u001b[0m         \u001b[39mreturn\u001b[39;00m logits\n\u001b[0;32m---> 34\u001b[0m model \u001b[39m=\u001b[39m NeuralNetwork()\u001b[39m.\u001b[39mto(device)\n\u001b[1;32m     35\u001b[0m \u001b[39mprint\u001b[39m(model)\n",
      "\u001b[0;31mNameError\u001b[0m: name 'NeuralNetwork' is not defined"
     ]
    }
   ],
   "source": [
    "class SimpleLinearNeuralNetwork(nn.Module):\n",
    "    def __init__(self):\n",
    "        super().__init__()\n",
    "        self.flatten = nn.Flatten()\n",
    "        self.linear_relu_stack = nn.Sequential(\n",
    "            # nn.Conv2d(kernel_size=3, stride=1, padding=0, in_channels=1, out_channels=16),\n",
    "            # nn.ReLU(),\n",
    "            # nn.MaxPool2d(kernel_size=2, stride=2),\n",
    "            \n",
    "            # nn.Linear(32*4*4, 10),\n",
    "\n",
    "            nn.Linear(28*28, 512),\n",
    "            nn.ReLU(),\n",
    "            # nn.Linear(512, 512),\n",
    "            # nn.ReLU(),\n",
    "            # nn.Linear(512, 10)\n",
    "        )\n",
    "\n",
    "        self.linear = nn.Linear(28*28, 10)\n",
    "\n",
    "    def forward(self, x):\n",
    "        # print('forward1')\n",
    "        # print(x.size())\n",
    "        # self.linear.weight = self.linear.weight.long()\n",
    "        # print(self.linear.weight.dtype)\n",
    "        # print(self.linear.bias.dtype)\n",
    "        # print(x.dtype)\n",
    "        # x = self.flatten(x)\n",
    "        # print('forward2')\n",
    "        logits = self.linear(x)\n",
    "        \n",
    "        return logits\n",
    "    \n",
    "model = NeuralNetwork().to(device)\n",
    "print(model)"
   ]
  }
 ],
 "metadata": {
  "kernelspec": {
   "display_name": "base",
   "language": "python",
   "name": "python3"
  },
  "language_info": {
   "codemirror_mode": {
    "name": "ipython",
    "version": 3
   },
   "file_extension": ".py",
   "mimetype": "text/x-python",
   "name": "python",
   "nbconvert_exporter": "python",
   "pygments_lexer": "ipython3",
   "version": "3.10.9"
  },
  "orig_nbformat": 4
 },
 "nbformat": 4,
 "nbformat_minor": 2
}
