{
 "cells": [
  {
   "cell_type": "code",
   "execution_count": 1,
   "metadata": {},
   "outputs": [],
   "source": [
    "import torch\n",
    "from torch import nn\n",
    "from torch.utils.data import DataLoader\n",
    "from torchvision import datasets, transforms\n",
    "import pandas as pd\n",
    "from torch import utils as t_utils\n",
    "from torch.utils.data.dataset import random_split\n",
    "from torch.utils.data import Dataset, TensorDataset, DataLoader\n",
    "import matplotlib.pyplot as plt\n",
    "import numpy as np\n",
    "import sys\n",
    "\n",
    "from helpers import train_loop, test_loop\n",
    "# device = torch.device(\"cuda\" if torch.cuda.is_available() else \"mps\")\n",
    "device = torch.device(\"cuda\")\n",
    "sys.dont_write_bytecode = True\n",
    "\n",
    "\n"
   ]
  },
  {
   "cell_type": "code",
   "execution_count": 2,
   "metadata": {},
   "outputs": [],
   "source": [
    "\n",
    "train_data = pd.read_csv('./data/train.csv',dtype = np.float32)\n",
    "\n",
    "train_data['label'] = train_data['label'].astype(int)\n",
    "# test_data['label'] = test_data['label'].astype(int)\n",
    "\n",
    "# convert to numpy\n",
    "targets_numpy = train_data.label.values\n",
    "features_numpy = train_data.loc[:,train_data.columns != \"label\"].values\n",
    "\n",
    "# convert to tensor\n",
    "targets_tensor = torch.from_numpy(targets_numpy).to(device).long()\n",
    "features_tensor = torch.from_numpy(features_numpy).to(device).float()\n",
    "\n",
    "# create dataset\n",
    "dataset = TensorDataset(features_tensor, targets_tensor)\n",
    " \n",
    "# split dataset\n",
    "rows = train_data.shape[0]\n",
    "test_size = int(rows*0.2)\n",
    "train_size = rows - test_size\n",
    "trainDataset, testDataset = random_split(dataset, [train_size, test_size])\n",
    "\n",
    "# init loaders\n",
    "batch_size = 100\n",
    "learning_rate = 1e-3 \n",
    "epochs = 5\n",
    "\n",
    "trainLoader = DataLoader(trainDataset, batch_size=batch_size)\n",
    "testLoader = DataLoader(testDataset, batch_size=batch_size)"
   ]
  },
  {
   "cell_type": "code",
   "execution_count": 3,
   "metadata": {},
   "outputs": [
    {
     "name": "stdout",
     "output_type": "stream",
     "text": [
      "SimpleLinearNeuralNetwork(\n",
      "  (linear): Linear(in_features=784, out_features=10, bias=True)\n",
      ")\n"
     ]
    }
   ],
   "source": [
    "from models.SimpleLinearNeuralNetwork import SimpleLinearNeuralNetwork\n",
    "    \n",
    "simpleLinearNeuralNetworkModel = SimpleLinearNeuralNetwork().to(device)\n",
    "print(simpleLinearNeuralNetworkModel)"
   ]
  },
  {
   "cell_type": "code",
   "execution_count": 4,
   "metadata": {},
   "outputs": [
    {
     "name": "stdout",
     "output_type": "stream",
     "text": [
      "Epoch 1\n",
      "-------------------------------\n",
      "loss: 72.123962  [  100/33600]\n",
      "loss: 16.933544  [12900/33600]\n",
      "loss: 16.350508  [25700/33600]\n",
      "Epoch 2\n",
      "-------------------------------\n",
      "loss: 14.734322  [  100/33600]\n",
      "loss: 11.801654  [12900/33600]\n",
      "loss: 19.451086  [25700/33600]\n",
      "Epoch 3\n",
      "-------------------------------\n",
      "loss: 10.727927  [  100/33600]\n",
      "loss: 11.365089  [12900/33600]\n",
      "loss: 5.524220  [25700/33600]\n",
      "Epoch 4\n",
      "-------------------------------\n",
      "loss: 40.182823  [  100/33600]\n",
      "loss: 12.726736  [12900/33600]\n",
      "loss: 6.730944  [25700/33600]\n",
      "Epoch 5\n",
      "-------------------------------\n",
      "loss: 10.690359  [  100/33600]\n",
      "loss: 16.029102  [12900/33600]\n",
      "loss: 8.447862  [25700/33600]\n",
      "Test Error: \n",
      " Accuracy: 80.4%, Avg loss: 22.483547 \n",
      "\n",
      "Done!\n"
     ]
    }
   ],
   "source": [
    "\n",
    "\n",
    "loss_fn = nn.CrossEntropyLoss()\n",
    "optimizer = torch.optim.SGD(simpleLinearNeuralNetworkModel.parameters(), lr=learning_rate)\n",
    "\n",
    "for t in range(epochs):\n",
    "    print(f\"Epoch {t+1}\\n-------------------------------\")\n",
    "    train_loop(trainLoader, simpleLinearNeuralNetworkModel, loss_fn, optimizer)\n",
    "\n",
    "test_loop(testLoader, simpleLinearNeuralNetworkModel, loss_fn)\n",
    "\n",
    "print(\"Done!\")"
   ]
  },
  {
   "cell_type": "code",
   "execution_count": 5,
   "metadata": {},
   "outputs": [],
   "source": [
    "\n",
    "loaderIterator = iter(testLoader) "
   ]
  },
  {
   "cell_type": "code",
   "execution_count": 11,
   "metadata": {},
   "outputs": [
    {
     "name": "stdout",
     "output_type": "stream",
     "text": [
      "ComplexLinearNeuralNetwork(\n",
      "  (linear_relu_stack): Sequential(\n",
      "    (0): Linear(in_features=784, out_features=150, bias=True)\n",
      "    (1): ReLU()\n",
      "    (2): Linear(in_features=150, out_features=150, bias=True)\n",
      "    (3): Tanh()\n",
      "    (4): Linear(in_features=150, out_features=150, bias=True)\n",
      "    (5): ELU(alpha=1.0)\n",
      "    (6): Linear(in_features=150, out_features=10, bias=True)\n",
      "  )\n",
      ")\n"
     ]
    }
   ],
   "source": [
    "\n",
    "from models.ComplexLinearNeuralNetwork import ComplexLinearNeuralNetwork\n",
    "\n",
    " \n",
    "        \n",
    "complexLinearNeuralNetwork = ComplexLinearNeuralNetwork().to(device)\n",
    "print(complexLinearNeuralNetwork)"
   ]
  },
  {
   "cell_type": "code",
   "execution_count": 12,
   "metadata": {},
   "outputs": [
    {
     "name": "stdout",
     "output_type": "stream",
     "text": [
      "Epoch 30\n",
      "-------------------------------\n",
      "loss: 0.006919  [  100/33600]\n",
      "loss: 0.005704  [12900/33600]\n",
      "loss: 0.003312  [25700/33600]\n"
     ]
    }
   ],
   "source": [
    "from IPython.display import clear_output\n",
    "\n",
    "\n",
    "loss_fn = nn.CrossEntropyLoss()\n",
    "optimizer = torch.optim.SGD(complexLinearNeuralNetwork.parameters(), lr=0.01)\n",
    "epochs = 30\n",
    "for t in range(epochs):\n",
    "    clear_output(wait=False)\n",
    "    print(f\"Epoch {t+1}\\n-------------------------------\")\n",
    "    train_loop(trainLoader, complexLinearNeuralNetwork, loss_fn, optimizer)\n",
    "     \n",
    "    # test_loop(testLoader, complexLinearNeuralNetwork, loss_fn)"
   ]
  },
  {
   "cell_type": "markdown",
   "metadata": {},
   "source": []
  },
  {
   "cell_type": "markdown",
   "metadata": {},
   "source": []
  },
  {
   "cell_type": "code",
   "execution_count": 23,
   "metadata": {},
   "outputs": [
    {
     "name": "stdout",
     "output_type": "stream",
     "text": [
      "Test Error: \n",
      " Accuracy: 96.6%, Avg loss: 0.122865 \n",
      "\n"
     ]
    }
   ],
   "source": [
    "test_loop(testLoader, complexLinearNeuralNetwork, loss_fn)"
   ]
  },
  {
   "cell_type": "code",
   "execution_count": 3,
   "metadata": {},
   "outputs": [
    {
     "name": "stdout",
     "output_type": "stream",
     "text": [
      "ConvNeuralNetwork(\n",
      "  (linear_relu_stack): Sequential(\n",
      "    (0): Conv2d(1, 16, kernel_size=(3, 3), stride=(1, 1))\n",
      "    (1): ReLU()\n",
      "    (2): MaxPool2d(kernel_size=2, stride=2, padding=0, dilation=1, ceil_mode=False)\n",
      "    (3): Flatten(start_dim=1, end_dim=-1)\n",
      "    (4): Linear(in_features=2704, out_features=10, bias=True)\n",
      "  )\n",
      "  (conv1): Conv2d(1, 16, kernel_size=(3, 3), stride=(1, 1))\n",
      "  (relu1): ReLU()\n",
      "  (maxPool1): MaxPool2d(kernel_size=2, stride=2, padding=0, dilation=1, ceil_mode=False)\n",
      "  (flatten): Flatten(start_dim=1, end_dim=-1)\n",
      "  (linear1): Linear(in_features=2704, out_features=10, bias=True)\n",
      ")\n"
     ]
    }
   ],
   "source": [
    "class ConvNeuralNetwork(nn.Module):\n",
    "    def __init__(self):\n",
    "        super().__init__() \n",
    "        self.linear_relu_stack = nn.Sequential(\n",
    "            nn.Conv2d(kernel_size=3, stride=1, padding=0, in_channels=1, out_channels=16),\n",
    "            nn.ReLU(),\n",
    "            nn.MaxPool2d(kernel_size=2, stride=2),\n",
    "            nn.Flatten(),\n",
    "            nn.Linear(2704, 10),\n",
    "\n",
    "        )\n",
    "\n",
    "        self.conv1 = nn.Conv2d(kernel_size=3, stride=1, padding=0, in_channels=1, out_channels=16)\n",
    "        self.relu1 = nn.ReLU()\n",
    "        self.maxPool1 = nn.MaxPool2d(kernel_size=2, stride=2)\n",
    "        self.flatten = nn.Flatten()\n",
    "        self.linear1 = nn.Linear(2704, 10)\n",
    "\n",
    "    def forward(self, x):\n",
    " \n",
    "        # out = self.conv1(x)\n",
    "        # print(f\"conv1 out: {out.size()}\")\n",
    "        # out = self.relu1(out)\n",
    "        # print(f\"relu1 out: {out.size()}\")\n",
    "        # out = self.maxPool1(out)\n",
    "        # print(f\"maxPool1 out: {out.size()}\") \n",
    "        # out = self.flatten(out)\n",
    "        # print(f\"flatten out: {out.size()}\") \n",
    "        # out = self.linear1(out)\n",
    "        # print(f\"linear1 out: {out.size()}\") \n",
    "        return self.linear_relu_stack(x)\n",
    "    \n",
    "convNeuralNetwork = ConvNeuralNetwork().to(device)\n",
    "print(convNeuralNetwork)"
   ]
  },
  {
   "cell_type": "code",
   "execution_count": 4,
   "metadata": {},
   "outputs": [
    {
     "name": "stdout",
     "output_type": "stream",
     "text": [
      "Epoch 30\n",
      "-------------------------------\n",
      "loss: 0.207603  [  100/33600]\n",
      "loss: 0.116544  [12900/33600]\n",
      "loss: 0.084948  [25700/33600]\n"
     ]
    }
   ],
   "source": [
    "from IPython.display import clear_output\n",
    "\n",
    "loss_fn = nn.CrossEntropyLoss()\n",
    "optimizer = torch.optim.SGD(convNeuralNetwork.parameters(), lr=0.01)\n",
    "epochs = 30\n",
    "\n",
    "def reshape(x):\n",
    "    return x.view(batch_size,1,28,28)\n",
    "\n",
    "for t in range(epochs):\n",
    "    clear_output(wait=False)\n",
    "    print(f\"Epoch {t+1}\\n-------------------------------\")\n",
    "    train_loop(trainLoader, convNeuralNetwork, loss_fn, optimizer, reshape)\n",
    "     \n",
    "    # test_loop(testLoader, complexLinearNeuralNetwork, loss_fn)"
   ]
  },
  {
   "cell_type": "code",
   "execution_count": 13,
   "metadata": {},
   "outputs": [],
   "source": [
    "def test_loop(dataloader, model, loss_fn):\n",
    "    size = len(dataloader.dataset)\n",
    "    num_batches = len(dataloader)\n",
    "    correct = 0\n",
    "    test_loss = 0 \n",
    "    with torch.no_grad():\n",
    "        for (X, y) in dataloader: \n",
    "            pred = model(X.view(100,1,28,28)) \n",
    "            test_loss += loss_fn(pred, y).item()\n",
    "            correct += (pred.argmax(1) == y).type(torch.float).sum().item() \n",
    " \n",
    "    test_loss /= num_batches\n",
    "    correct /= size\n",
    "    print(f\"Test Error: \\n Accuracy: {(100*correct):>0.1f}%, Avg loss: {test_loss:>8f} \\n\")"
   ]
  },
  {
   "cell_type": "code",
   "execution_count": 5,
   "metadata": {},
   "outputs": [
    {
     "name": "stdout",
     "output_type": "stream",
     "text": [
      "Test Error: \n",
      " Accuracy: 93.3%, Avg loss: 0.220247 \n",
      "\n"
     ]
    }
   ],
   "source": [
    "test_loop(testLoader, convNeuralNetwork, loss_fn, reshape)"
   ]
  }
 ],
 "metadata": {
  "kernelspec": {
   "display_name": "base",
   "language": "python",
   "name": "python3"
  },
  "language_info": {
   "codemirror_mode": {
    "name": "ipython",
    "version": 3
   },
   "file_extension": ".py",
   "mimetype": "text/x-python",
   "name": "python",
   "nbconvert_exporter": "python",
   "pygments_lexer": "ipython3",
   "version": "3.10.9"
  },
  "orig_nbformat": 4
 },
 "nbformat": 4,
 "nbformat_minor": 2
}
