{
 "cells": [
  {
   "cell_type": "code",
   "execution_count": 189,
   "metadata": {},
   "outputs": [],
   "source": [
    "import torch\n",
    "from torch import nn\n",
    "from torch.utils.data import DataLoader\n",
    "from torchvision import datasets, transforms\n",
    "import pandas as pd\n",
    "from torch import utils as t_utils\n",
    "from torch.utils.data.dataset import random_split\n",
    "from torch.utils.data import Dataset, TensorDataset, DataLoader\n",
    "import matplotlib.pyplot as plt\n",
    "import numpy as np\n",
    "# device = torch.device(\"cuda\" if torch.cuda.is_available() else \"mps\")\n",
    "device = torch.device(\"cuda\")\n"
   ]
  },
  {
   "cell_type": "code",
   "execution_count": 190,
   "metadata": {},
   "outputs": [],
   "source": [
    "\n",
    "train_data = pd.read_csv('./data/train.csv',dtype = np.float32)\n",
    "\n",
    "train_data['label'] = train_data['label'].astype(int)\n",
    "# test_data['label'] = test_data['label'].astype(int)\n",
    "\n",
    "# convert to numpy\n",
    "targets_numpy = train_data.label.values\n",
    "features_numpy = train_data.loc[:,train_data.columns != \"label\"].values\n",
    "\n",
    "# convert to tensor\n",
    "targets_tensor = torch.from_numpy(targets_numpy).to(device).long()\n",
    "features_tensor = torch.from_numpy(features_numpy).to(device).float()\n",
    "\n",
    "# create dataset\n",
    "dataset = TensorDataset(features_tensor, targets_tensor)\n",
    " \n",
    "# split dataset\n",
    "rows = train_data.shape[0]\n",
    "test_size = int(rows*0.2)\n",
    "train_size = rows - test_size\n",
    "trainDataset, testDataset = random_split(dataset, [train_size, test_size])\n",
    "\n",
    "# init loaders\n",
    "batch_size = 100\n",
    "trainLoader = DataLoader(trainDataset, batch_size=batch_size)\n",
    "testLoader = DataLoader(testDataset, batch_size=batch_size)"
   ]
  },
  {
   "cell_type": "code",
   "execution_count": 191,
   "metadata": {},
   "outputs": [],
   "source": [
    "# train_features, train_labels = next(iter(trainLoader))\n",
    "# img = torch.reshape(train_features[0], (28, 28)) \n",
    "# label = train_labels[0]\n",
    "# plt.imshow(img)\n",
    "# plt.title(str(label))\n",
    "# plt.show()\n",
    "# print(f\"Label: {label}\")"
   ]
  },
  {
   "cell_type": "code",
   "execution_count": 192,
   "metadata": {},
   "outputs": [
    {
     "name": "stdout",
     "output_type": "stream",
     "text": [
      "SimpleLinearNeuralNetwork(\n",
      "  (linear): Linear(in_features=784, out_features=10, bias=True)\n",
      ")\n"
     ]
    }
   ],
   "source": [
    "class SimpleLinearNeuralNetwork(nn.Module):\n",
    "    def __init__(self):\n",
    "        super().__init__()\n",
    "        self.linear = nn.Linear(28*28, 10)\n",
    "\n",
    "    def forward(self, x):\n",
    "        logits = self.linear(x)\n",
    "        return logits\n",
    "    \n",
    "simpleLinearNeuralNetworkModel = SimpleLinearNeuralNetwork().to(device)\n",
    "print(simpleLinearNeuralNetworkModel)"
   ]
  },
  {
   "cell_type": "code",
   "execution_count": 193,
   "metadata": {},
   "outputs": [],
   "source": [
    "def train_loop(dataloader, model, criteria, optimizer):\n",
    "    size = len(dataloader.dataset) \n",
    "    count = 0\n",
    "    for batch, (X, y) in enumerate(dataloader): \n",
    "        pred = model(X)\n",
    "        loss = criteria(pred, y)\n",
    "        count += 1\n",
    "        # Backpropagation\n",
    "        optimizer.zero_grad()\n",
    "        loss.backward()\n",
    "        optimizer.step() \n",
    "        \n",
    "        if batch % 128 == 0: \n",
    "            loss, current = loss.item(), (batch + 1) * len(X)\n",
    "            print(f\"loss: {loss:>7f}  [{current:>5d}/{size:>5d}]\")\n"
   ]
  },
  {
   "cell_type": "code",
   "execution_count": 194,
   "metadata": {},
   "outputs": [],
   "source": [
    "def test_loop(dataloader, model, loss_fn):\n",
    "    size = len(dataloader.dataset)\n",
    "    num_batches = len(dataloader)\n",
    "    correct = 0\n",
    "    test_loss = 0 \n",
    "    with torch.no_grad():\n",
    "        for (X, y) in dataloader: \n",
    "            pred = model(X) \n",
    "            test_loss += loss_fn(pred, y).item()\n",
    "            correct += (pred.argmax(1) == y).type(torch.float).sum().item() \n",
    " \n",
    "    test_loss /= num_batches\n",
    "    correct /= size\n",
    "    print(f\"Test Error: \\n Accuracy: {(100*correct):>0.1f}%, Avg loss: {test_loss:>8f} \\n\")"
   ]
  },
  {
   "cell_type": "code",
   "execution_count": 195,
   "metadata": {},
   "outputs": [
    {
     "name": "stdout",
     "output_type": "stream",
     "text": [
      "Epoch 1\n",
      "-------------------------------\n",
      "loss: 46.534233  [  100/33600]\n",
      "loss: 16.875134  [12900/33600]\n",
      "loss: 14.239372  [25700/33600]\n",
      "Test Error: \n",
      " Accuracy: 85.7%, Avg loss: 15.401696 \n",
      "\n",
      "Epoch 2\n",
      "-------------------------------\n",
      "loss: 14.260887  [  100/33600]\n",
      "loss: 18.739660  [12900/33600]\n",
      "loss: 12.885386  [25700/33600]\n",
      "Test Error: \n",
      " Accuracy: 88.6%, Avg loss: 10.887407 \n",
      "\n",
      "Epoch 3\n",
      "-------------------------------\n",
      "loss: 8.468897  [  100/33600]\n",
      "loss: 11.996378  [12900/33600]\n",
      "loss: 18.307690  [25700/33600]\n",
      "Test Error: \n",
      " Accuracy: 89.0%, Avg loss: 11.336481 \n",
      "\n",
      "Epoch 4\n",
      "-------------------------------\n",
      "loss: 8.071048  [  100/33600]\n",
      "loss: 14.319527  [12900/33600]\n",
      "loss: 16.721651  [25700/33600]\n",
      "Test Error: \n",
      " Accuracy: 85.1%, Avg loss: 15.394375 \n",
      "\n",
      "Epoch 5\n",
      "-------------------------------\n",
      "loss: 8.380723  [  100/33600]\n",
      "loss: 16.370310  [12900/33600]\n",
      "loss: 13.278831  [25700/33600]\n",
      "Test Error: \n",
      " Accuracy: 88.4%, Avg loss: 10.655853 \n",
      "\n",
      "Done!\n"
     ]
    }
   ],
   "source": [
    "learning_rate = 1e-3\n",
    "batch_size = 64\n",
    "epochs = 5\n",
    "\n",
    "loss_fn = nn.CrossEntropyLoss()\n",
    "optimizer = torch.optim.SGD(simpleLinearNeuralNetworkModel.parameters(), lr=learning_rate)\n",
    "\n",
    "for t in range(epochs):\n",
    "    print(f\"Epoch {t+1}\\n-------------------------------\")\n",
    "    train_loop(trainLoader, simpleLinearNeuralNetworkModel, loss_fn, optimizer)\n",
    "    test_loop(testLoader, simpleLinearNeuralNetworkModel, loss_fn)\n",
    "\n",
    "print(\"Done!\")"
   ]
  },
  {
   "cell_type": "code",
   "execution_count": 196,
   "metadata": {},
   "outputs": [
    {
     "name": "stdout",
     "output_type": "stream",
     "text": [
      "Test Error: \n",
      " Accuracy: 88.4%, Avg loss: 10.655853 \n",
      "\n"
     ]
    }
   ],
   "source": [
    "test_loop(testLoader, simpleLinearNeuralNetworkModel, loss_fn)\n",
    "\n",
    "\n"
   ]
  },
  {
   "cell_type": "code",
   "execution_count": 197,
   "metadata": {},
   "outputs": [],
   "source": [
    "\n",
    "loaderIterator = iter(testLoader) "
   ]
  },
  {
   "cell_type": "code",
   "execution_count": 198,
   "metadata": {},
   "outputs": [],
   "source": [
    "\n",
    "def predict_and_show(model, loaderIterator):\n",
    "    train_features, train_labels = next(loaderIterator)\n",
    "    with torch.no_grad():\n",
    "        img = torch.reshape(train_features[0], (28, 28))  \n",
    "        pred = model(train_features)\n",
    "        label = torch.argmax(pred[0])  \n",
    "        plt.imshow(img)\n",
    "        plt.title(f\"predicted: {str(label)}, actual: {str(train_labels[0])}\")\n",
    "        plt.show() \n",
    "\n",
    "\n"
   ]
  },
  {
   "cell_type": "code",
   "execution_count": 199,
   "metadata": {},
   "outputs": [],
   "source": [
    "# predict_and_show(simpleLinearNeuralNetworkModel, loaderIterator) \n",
    " "
   ]
  },
  {
   "cell_type": "code",
   "execution_count": 246,
   "metadata": {},
   "outputs": [
    {
     "name": "stdout",
     "output_type": "stream",
     "text": [
      "ComplexLinearNeuralNetwork(\n",
      "  (linear_relu_stack): Sequential(\n",
      "    (0): Linear(in_features=784, out_features=150, bias=True)\n",
      "    (1): ReLU()\n",
      "    (2): Linear(in_features=150, out_features=150, bias=True)\n",
      "    (3): GELU(approximate='none')\n",
      "    (4): Linear(in_features=150, out_features=10, bias=True)\n",
      "  )\n",
      ")\n"
     ]
    }
   ],
   "source": [
    "class ComplexLinearNeuralNetwork(nn.Module):\n",
    "    def __init__(self):\n",
    "        super().__init__() \n",
    "        self.linear_relu_stack = nn.Sequential(\n",
    "            # nn.Conv2d(kernel_size=3, stride=1, padding=0, in_channels=1, out_channels=16),\n",
    "            # nn.ReLU(),\n",
    "            # nn.MaxPool2d(kernel_size=2, stride=2),\n",
    "            \n",
    "            # nn.Linear(32*4*4, 10),\n",
    "\n",
    "            nn.Linear(28*28, 150),\n",
    "            nn.ReLU(), \n",
    "            nn.Linear(150, 150),\n",
    "            nn.Tanh(),\n",
    "            nn.Linear(150, 150),\n",
    "            nn.ELU(),\n",
    "            nn.Linear(150, 10) \n",
    "        ) \n",
    "\n",
    "    def forward(self, x):\n",
    "        # print('forward1')\n",
    "        # print(x.size())\n",
    "        # self.linear.weight = self.linear.weight.long()\n",
    "        # print(self.linear.weight.dtype)\n",
    "        # print(self.linear.bias.dtype)\n",
    "        # print(x.dtype)\n",
    "        # x = self.flatten(x)\n",
    "        # print('forward2')\n",
    "        logits = self.linear_relu_stack(x)\n",
    "        \n",
    "        return logits\n",
    "    \n",
    "complexLinearNeuralNetwork = ComplexLinearNeuralNetwork().to(device)\n",
    "print(complexLinearNeuralNetwork)"
   ]
  },
  {
   "cell_type": "code",
   "execution_count": 247,
   "metadata": {},
   "outputs": [
    {
     "name": "stdout",
     "output_type": "stream",
     "text": [
      "Epoch 30\n",
      "-------------------------------\n",
      "loss: 0.006665  [  100/33600]\n",
      "loss: 0.053503  [12900/33600]\n",
      "loss: 0.041024  [25700/33600]\n"
     ]
    }
   ],
   "source": [
    "from IPython.display import clear_output\n",
    "\n",
    "loss_fn = nn.CrossEntropyLoss()\n",
    "optimizer = torch.optim.SGD(complexLinearNeuralNetwork.parameters(), lr=0.01)\n",
    "epochs = 30\n",
    "for t in range(epochs):\n",
    "    clear_output(wait=False)\n",
    "    print(f\"Epoch {t+1}\\n-------------------------------\")\n",
    "    train_loop(trainLoader, complexLinearNeuralNetwork, loss_fn, optimizer)\n",
    "     \n",
    "    # test_loop(testLoader, complexLinearNeuralNetwork, loss_fn)"
   ]
  },
  {
   "cell_type": "code",
   "execution_count": 248,
   "metadata": {},
   "outputs": [
    {
     "name": "stdout",
     "output_type": "stream",
     "text": [
      "Test Error: \n",
      " Accuracy: 93.9%, Avg loss: 0.280582 \n",
      "\n"
     ]
    }
   ],
   "source": [
    "test_loop(testLoader, complexLinearNeuralNetwork, loss_fn)"
   ]
  },
  {
   "cell_type": "code",
   "execution_count": 205,
   "metadata": {},
   "outputs": [
    {
     "name": "stdout",
     "output_type": "stream",
     "text": [
      "33600\n",
      "8400\n"
     ]
    }
   ],
   "source": [
    "print(len(trainLoader.dataset))\n",
    "print(len(testLoader.dataset))"
   ]
  }
 ],
 "metadata": {
  "kernelspec": {
   "display_name": "base",
   "language": "python",
   "name": "python3"
  },
  "language_info": {
   "codemirror_mode": {
    "name": "ipython",
    "version": 3
   },
   "file_extension": ".py",
   "mimetype": "text/x-python",
   "name": "python",
   "nbconvert_exporter": "python",
   "pygments_lexer": "ipython3",
   "version": "3.10.9"
  },
  "orig_nbformat": 4
 },
 "nbformat": 4,
 "nbformat_minor": 2
}
