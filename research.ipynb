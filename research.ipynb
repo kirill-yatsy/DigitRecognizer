{
 "cells": [
  {
   "cell_type": "code",
   "execution_count": 2,
   "metadata": {},
   "outputs": [],
   "source": [
    "import torch\n",
    "from torch import nn\n",
    "from torch.utils.data import DataLoader\n",
    "from torchvision import datasets, transforms\n",
    "import pandas as pd\n",
    "from torch import utils as t_utils\n",
    "from torch.utils.data.dataset import random_split\n",
    "from torch.utils.data import Dataset, TensorDataset, DataLoader\n",
    "import matplotlib.pyplot as plt\n",
    "import numpy as np\n",
    "# device = torch.device(\"cuda\" if torch.cuda.is_available() else \"mps\")\n",
    "device = torch.device(\"cpu\")\n"
   ]
  },
  {
   "cell_type": "code",
   "execution_count": 3,
   "metadata": {},
   "outputs": [],
   "source": [
    "\n",
    "train_data = pd.read_csv('./data/train.csv',dtype = np.float32)\n",
    "\n",
    "train_data['label'] = train_data['label'].astype(int)\n",
    "# test_data['label'] = test_data['label'].astype(int)\n",
    "\n",
    "# convert to numpy\n",
    "targets_numpy = train_data.label.values\n",
    "features_numpy = train_data.loc[:,train_data.columns != \"label\"].values\n",
    "\n",
    "# convert to tensor\n",
    "targets_tensor = torch.from_numpy(targets_numpy).long()\n",
    "features_tensor = torch.from_numpy(features_numpy).float()\n",
    "\n",
    "# create dataset\n",
    "dataset = TensorDataset(features_tensor, targets_tensor)\n",
    " \n",
    "# split dataset\n",
    "rows = train_data.shape[0]\n",
    "test_size = int(rows*0.2)\n",
    "train_size = rows - test_size\n",
    "trainDataset, testDataset = random_split(dataset, [train_size, test_size])\n",
    "\n",
    "# init loaders\n",
    "batch_size = 100\n",
    "trainLoader = DataLoader(trainDataset, batch_size=batch_size)\n",
    "testLoader = DataLoader(testDataset, batch_size=batch_size)"
   ]
  },
  {
   "cell_type": "code",
   "execution_count": 186,
   "metadata": {},
   "outputs": [
    {
     "name": "stdout",
     "output_type": "stream",
     "text": [
      "torch.Size([100, 10])\n",
      "torch.Size([100])\n",
      "torch.float32\n",
      "torch.float32\n",
      "tensor(66.3773, grad_fn=<NllLossBackward0>)\n"
     ]
    }
   ],
   "source": [
    "# simpleModel = nn.Linear(28*28, 10)\n",
    "# simpleModel.to(device)\n",
    "\n",
    "# X, y = next(iter(trainLoader))\n",
    "\n",
    "# pred = simpleModel(X)\n",
    "\n",
    "# loss_fn = nn.CrossEntropyLoss()\n",
    "# print(pred.size())\n",
    "# print(y.size())\n",
    "# print(pred.dtype)\n",
    "# print(y.dtype)\n",
    "# a = loss_fn(pred, y.long())\n",
    "# print(a)"
   ]
  },
  {
   "cell_type": "code",
   "execution_count": 8,
   "metadata": {},
   "outputs": [
    {
     "data": {
      "image/png": "[encoded data removed]",
      "text/plain": [
       "<Figure size 640x480 with 1 Axes>"
      ]
     },
     "metadata": {},
     "output_type": "display_data"
    },
    {
     "name": "stdout",
     "output_type": "stream",
     "text": [
      "Label: 2\n"
     ]
    }
   ],
   "source": [
    "train_features, train_labels = next(iter(trainLoader))\n",
    "img = torch.reshape(train_features[0], (28, 28)) \n",
    "label = train_labels[0]\n",
    "plt.imshow(img)\n",
    "plt.title(str(label))\n",
    "plt.show()\n",
    "print(f\"Label: {label}\")"
   ]
  },
  {
   "cell_type": "code",
   "execution_count": 4,
   "metadata": {},
   "outputs": [
    {
     "name": "stdout",
     "output_type": "stream",
     "text": [
      "NeuralNetwork(\n",
      "  (flatten): Flatten(start_dim=1, end_dim=-1)\n",
      "  (linear_relu_stack): Sequential(\n",
      "    (0): Linear(in_features=784, out_features=512, bias=True)\n",
      "    (1): ReLU()\n",
      "  )\n",
      "  (linear): Linear(in_features=784, out_features=10, bias=True)\n",
      ")\n"
     ]
    }
   ],
   "source": [
    "class NeuralNetwork(nn.Module):\n",
    "    def __init__(self):\n",
    "        super().__init__()\n",
    "        self.flatten = nn.Flatten()\n",
    "        self.linear_relu_stack = nn.Sequential(\n",
    "            # nn.Conv2d(kernel_size=3, stride=1, padding=0, in_channels=1, out_channels=16),\n",
    "            # nn.ReLU(),\n",
    "            # nn.MaxPool2d(kernel_size=2, stride=2),\n",
    "            \n",
    "            # nn.Linear(32*4*4, 10),\n",
    "\n",
    "            nn.Linear(28*28, 512),\n",
    "            nn.ReLU(),\n",
    "            # nn.Linear(512, 512),\n",
    "            # nn.ReLU(),\n",
    "            # nn.Linear(512, 10)\n",
    "        )\n",
    "\n",
    "        self.linear = nn.Linear(28*28, 10)\n",
    "\n",
    "    def forward(self, x):\n",
    "        # print('forward1')\n",
    "        # print(x.size())\n",
    "        # self.linear.weight = self.linear.weight.long()\n",
    "        # print(self.linear.weight.dtype)\n",
    "        # print(self.linear.bias.dtype)\n",
    "        # print(x.dtype)\n",
    "        # x = self.flatten(x)\n",
    "        # print('forward2')\n",
    "        logits = self.linear(x)\n",
    "        \n",
    "        return logits\n",
    "    \n",
    "model = NeuralNetwork().to(device)\n",
    "print(model)"
   ]
  },
  {
   "cell_type": "code",
   "execution_count": 5,
   "metadata": {},
   "outputs": [],
   "source": [
    "def train(dataloader, model, loss_fn, optimizer):\n",
    "    size = len(dataloader.dataset)\n",
    "    model.train()\n",
    "    count = 0\n",
    "    for (X, y) in trainLoader:\n",
    "        # train_features, train_labels = next(iter(trainLoader))\n",
    "        X, y = X.to(device), y.to(device)\n",
    "        # print(X.size())\n",
    "         \n",
    "        # xx = torch.reshape(X, (100, 1, 28, 28)) \n",
    "        # Compute prediction error\n",
    "        pred = model(X)\n",
    "        # print(pred )\n",
    "        # print(pred.size())\n",
    "        # print(y.size())\n",
    "        # print(y)\n",
    "        # aa = torch.rand(100, 1).to(device)\n",
    "        # print('pred.dtype ', pred.dtype)\n",
    "        # print('y.dtype ',y.dtype)\n",
    "        loss = loss_fn(pred , y )\n",
    "\n",
    "        # Backpropagation\n",
    "        optimizer.zero_grad()\n",
    "        loss.backward()\n",
    "        optimizer.step()\n",
    "        count = count + 1\n",
    "        if count % 200 == 0:\n",
    "            loss, current = loss.item(), (X[0] + 1) * len(X)\n",
    "          \n",
    "            print(f\"loss: {loss:>7f}\")"
   ]
  },
  {
   "cell_type": "code",
   "execution_count": 6,
   "metadata": {},
   "outputs": [
    {
     "name": "stdout",
     "output_type": "stream",
     "text": [
      "Epoch 1\n",
      "-------------------------------\n",
      "loss: 13.557081\n",
      "Epoch 2\n",
      "-------------------------------\n",
      "loss: 8.252522\n",
      "Epoch 3\n",
      "-------------------------------\n",
      "loss: 11.545628\n",
      "Epoch 4\n",
      "-------------------------------\n",
      "loss: 9.626928\n",
      "Epoch 5\n",
      "-------------------------------\n",
      "loss: 11.675030\n",
      "Done!\n"
     ]
    }
   ],
   "source": [
    "loss_fn = nn.CrossEntropyLoss()\n",
    "optimizer = torch.optim.SGD(model.parameters(), lr=1e-3)\n",
    "\n",
    "epochs = 5\n",
    "for t in range(epochs):\n",
    "    print(f\"Epoch {t+1}\\n-------------------------------\")\n",
    "    train(trainDataset, model, loss_fn, optimizer)\n",
    "    # test(test_dataloader, model, loss_fn)\n",
    "print(\"Done!\")"
   ]
  },
  {
   "cell_type": "code",
   "execution_count": 11,
   "metadata": {},
   "outputs": [
    {
     "name": "stdout",
     "output_type": "stream",
     "text": [
      "torch.return_types.max(\n",
      "values=tensor([272.1061, 271.1751, 517.4122, 528.0822, 278.5352, 568.5839, 240.7857,\n",
      "        638.0223, 695.2358, 218.3727, 438.5016, 474.5107, 291.6537, 652.0610,\n",
      "        409.5823, 599.7414, 673.8172, 541.4721, 744.4849, 276.4359, 280.8676,\n",
      "        233.4733, 365.0594, 232.5797, 458.9490, 446.0239, 590.9725, 574.6077,\n",
      "        219.6477, 609.9771, 321.8040, 360.8820, 173.0140, 378.3975, 350.7424,\n",
      "        659.6085, 417.9348, 184.1626, 381.0302, 536.7430, 530.1068, 603.9327,\n",
      "        528.3693, 557.4277, 209.2258, 414.1646, 269.4227, 376.1413, 348.9856,\n",
      "        752.3542, 471.1986, 443.2898, 297.4408, 584.8267, 333.7521, 400.8976,\n",
      "        421.3727, 441.9293, 753.2368, 324.3586, 519.4559, 260.6520, 314.1537,\n",
      "        401.2942, 361.5834, 321.9950, 410.5527, 259.8308, 157.7250, 470.2353,\n",
      "        233.4984, 447.7524, 444.1805, 250.6725, 597.0807, 584.0529, 187.0855,\n",
      "        514.9391, 353.4236, 779.4355, 355.3369, 273.7224, 370.7678, 593.5024,\n",
      "        776.9108, 820.0756, 979.6975, 371.8052, 512.3098, 545.8380, 373.3004,\n",
      "        217.6239, 834.9388, 799.6438, 223.2969, 151.8953, 896.1561, 323.4717,\n",
      "        239.2547, 612.7100]),\n",
      "indices=tensor([2, 7, 5, 0, 4, 6, 4, 5, 0, 8, 5, 5, 0, 6, 7, 6, 5, 8, 3, 3, 8, 5, 2, 6,\n",
      "        3, 2, 6, 0, 1, 5, 3, 5, 1, 1, 4, 0, 9, 3, 1, 7, 5, 2, 6, 5, 3, 7, 4, 5,\n",
      "        3, 0, 3, 0, 9, 3, 5, 6, 4, 7, 6, 9, 7, 1, 3, 3, 9, 9, 5, 1, 5, 2, 1, 0,\n",
      "        6, 4, 6, 0, 8, 5, 5, 0, 3, 5, 1, 5, 0, 5, 0, 4, 7, 5, 7, 8, 7, 2, 6, 1,\n",
      "        0, 7, 5, 0]))\n",
      "Accuracy of the network on the 100 test images: 76 %\n"
     ]
    }
   ],
   "source": [
    "loss_fn2 = nn.CrossEntropyLoss()\n",
    "total = 0\n",
    "correct = 0\n",
    "for (X, y) in testLoader:\n",
    "    X, y = X.to(device), y.to(device)\n",
    "    pred = model(X)\n",
    "    print(torch.max(pred.data, 1))\n",
    "    predicted = torch.max(pred.data, 1)[1]\n",
    "    total += len(y)\n",
    "    correct += (predicted == y).sum()\n",
    "    loss = loss_fn2(pred , y )\n",
    "    break\n",
    "\n",
    "accuracy = 100 * correct / float(total)\n",
    "\n",
    "print(f'Accuracy of the network on the {total} test images: %d %%' % (accuracy)) "
   ]
  }
 ],
 "metadata": {
  "kernelspec": {
   "display_name": "base",
   "language": "python",
   "name": "python3"
  },
  "language_info": {
   "codemirror_mode": {
    "name": "ipython",
    "version": 3
   },
   "file_extension": ".py",
   "mimetype": "text/x-python",
   "name": "python",
   "nbconvert_exporter": "python",
   "pygments_lexer": "ipython3",
   "version": "3.10.9"
  },
  "orig_nbformat": 4
 },
 "nbformat": 4,
 "nbformat_minor": 2
}
